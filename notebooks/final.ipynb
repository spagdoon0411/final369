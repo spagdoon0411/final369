{
 "cells": [
  {
   "cell_type": "markdown",
   "metadata": {},
   "source": [
    "## Spark Notebook Setup"
   ]
  },
  {
   "cell_type": "code",
   "execution_count": 1,
   "metadata": {},
   "outputs": [
    {
     "data": {
      "text/plain": [
       "\u001b[32mimport \u001b[39m\u001b[36m$ivy.$\u001b[39m\n",
       "\u001b[32mimport \u001b[39m\u001b[36morg.apache.spark.sql._\u001b[39m\n",
       "\u001b[32mimport \u001b[39m\u001b[36morg.apache.spark.{SparkConf, SparkContext}\u001b[39m"
      ]
     },
     "execution_count": 1,
     "metadata": {},
     "output_type": "execute_result"
    }
   ],
   "source": [
    "import $ivy.`org.apache.spark::spark-sql:2.4.0`\n",
    "import org.apache.spark.sql._\n",
    "import org.apache.spark.{SparkConf, SparkContext}"
   ]
  },
  {
   "cell_type": "code",
   "execution_count": 2,
   "metadata": {},
   "outputs": [
    {
     "data": {
      "text/plain": [
       "\u001b[32mimport \u001b[39m\u001b[36morg.apache.log4j.{Level, Logger}\u001b[39m"
      ]
     },
     "execution_count": 2,
     "metadata": {},
     "output_type": "execute_result"
    }
   ],
   "source": [
    "import org.apache.log4j.{Level, Logger}\n",
    "Logger.getLogger(\"org\").setLevel(Level.OFF)"
   ]
  },
  {
   "cell_type": "code",
   "execution_count": 3,
   "metadata": {},
   "outputs": [
    {
     "data": {
      "text/html": [
       "Loading <code>spark-stubs</code>"
      ]
     },
     "metadata": {},
     "output_type": "display_data"
    },
    {
     "data": {
      "text/html": [
       "Getting spark JARs\n"
      ]
     },
     "metadata": {},
     "output_type": "display_data"
    },
    {
     "data": {
      "text/html": [
       "Creating SparkSession\n"
      ]
     },
     "metadata": {},
     "output_type": "display_data"
    },
    {
     "name": "stderr",
     "output_type": "stream",
     "text": [
      "Using Spark's default log4j profile: org/apache/spark/log4j-defaults.properties\n"
     ]
    },
    {
     "data": {
      "text/html": [
       "<a target=\"_blank\" href=\"http://spark-server:4040\">Spark UI</a>"
      ]
     },
     "metadata": {},
     "output_type": "display_data"
    },
    {
     "data": {
      "text/plain": [
       "\u001b[36mspark\u001b[39m: \u001b[32mSparkSession\u001b[39m = org.apache.spark.sql.SparkSession@6ebbb45f"
      ]
     },
     "execution_count": 3,
     "metadata": {},
     "output_type": "execute_result"
    }
   ],
   "source": [
    "val spark = {\n",
    "  NotebookSparkSession.builder()\n",
    "    .master(\"local[*]\")\n",
    "    .getOrCreate()\n",
    "}"
   ]
  },
  {
   "cell_type": "markdown",
   "metadata": {},
   "source": [
    "## Preprocessing Data"
   ]
  },
  {
   "cell_type": "code",
   "execution_count": 4,
   "metadata": {},
   "outputs": [
    {
     "data": {
      "text/plain": [
       "\u001b[36mmoviePath\u001b[39m: \u001b[32mString\u001b[39m = \u001b[32m\"notebooks/data/movies.csv\"\u001b[39m\n",
       "\u001b[36mstopWordsPath\u001b[39m: \u001b[32mString\u001b[39m = \u001b[32m\"notebooks/data/stopwords.txt\"\u001b[39m\n",
       "\u001b[36mlemmatizationPath\u001b[39m: \u001b[32mString\u001b[39m = \u001b[32m\"notebooks/data/lemmatization.txt\"\u001b[39m"
      ]
     },
     "execution_count": 4,
     "metadata": {},
     "output_type": "execute_result"
    }
   ],
   "source": [
    "val moviePath = \"notebooks/data/movies.csv\"\n",
    "val stopWordsPath = \"notebooks/data/stopwords.txt\"\n",
    "val lemmatizationPath = \"notebooks/data/lemmatization.txt\""
   ]
  },
  {
   "cell_type": "code",
   "execution_count": 5,
   "metadata": {},
   "outputs": [
    {
     "data": {
      "text/html": [
       "<div><code>csv</code> at <code>cmd5.sc:5</code></div>"
      ]
     },
     "metadata": {},
     "output_type": "display_data"
    },
    {
     "data": {
      "text/html": [
       "<div><code>take</code> at <code>cmd5.sc:10</code></div>"
      ]
     },
     "metadata": {},
     "output_type": "display_data"
    },
    {
     "name": "stdout",
     "output_type": "stream",
     "text": [
      "(0,1901,Kansas Saloon Smashers,A bartender is working at a saloon, serving drinks to customers. After he fills a stereotypically Irish man's bucket with beer, Carrie Nation and her followers burst inside. They assault the Irish man, pulling his hat over his eyes and then dumping the beer over his head. The group then begin wrecking the bar, smashing the fixtures, mirrors, and breaking the cash register. The bartender then sprays seltzer water in Nation's face before a group of policemen appear and order everybody to leave.[1])\n",
      "(1,1901,Love by the Light of the Moon,The moon, painted with a smiling face hangs over a park at night. A young couple walking past a fence learn on a railing and look up. The moon smiles. They embrace, and the moon's smile gets bigger. They then sit down on a bench by a tree. The moon's view is blocked, causing him to frown. In the last scene, the man fans the woman with his hat because the moon has left the sky and is perched over her shoulder to see everything better.)\n",
      "(2,1901,The Martyred Presidents,The film, just over a minute long, is composed of two shots. In the first, a girl sits at the base of an altar or tomb, her face hidden from the camera. At the center of the altar, a viewing portal displays the portraits of three U.S. Presidents—Abraham Lincoln, James A. Garfield, and William McKinley—each victims of assassination.\n",
      "In the second shot, which runs just over eight seconds long, an assassin kneels feet of Lady Justice.)\n",
      "(3,1901,Terrible Teddy, the Grizzly King,Lasting just 61 seconds and consisting of two shots, the first shot is set in a wood during winter. The actor representing then vice-president Theodore Roosevelt enthusiastically hurries down a hillside towards a tree in the foreground. He falls once, but rights himself and cocks his rifle. Two other men, bearing signs reading \"His Photographer\" and \"His Press Agent\" respectively, follow him into the shot; the photographer sets up his camera. \"Teddy\" aims his rifle upward at the tree and fells what appears to be a common house cat, which he then proceeds to stab. \"Teddy\" holds his prize aloft, and the press agent takes notes. The second shot is taken in a slightly different part of the wood, on a path. \"Teddy\" rides the path on his horse towards the camera and out to the left of the shot, followed closely by the press agent and photographer, still dutifully holding their signs.)\n",
      "(4,1902,Jack and the Beanstalk,The earliest known adaptation of the classic fairytale, this films shows Jack trading his cow for the beans, his mother forcing him to drop them in the front yard, and beig forced upstairs. As he sleeps, Jack is visited by a fairy who shows him glimpses of what will await him when he ascends the bean stalk. In this version, Jack is the son of a deposed king. When Jack wakes up, he finds the beanstalk has grown and he climbs to the top where he enters the giant's home. The giant finds Jack, who narrowly escapes. The giant chases Jack down the bean stalk, but Jack is able to cut it down before the giant can get to safety. He falls and is killed as Jack celebrates. The fairy then reveals that Jack may return home as a prince.)\n"
     ]
    },
    {
     "data": {
      "text/plain": [
       "\u001b[36mmoviesRaw\u001b[39m: \u001b[32morg\u001b[39m.\u001b[32mapache\u001b[39m.\u001b[32mspark\u001b[39m.\u001b[32mrdd\u001b[39m.\u001b[32mRDD\u001b[39m[(\u001b[32mLong\u001b[39m, \u001b[32mString\u001b[39m, \u001b[32mString\u001b[39m, \u001b[32mString\u001b[39m)] = MapPartitionsRDD[9] at map at cmd5.sc:8"
      ]
     },
     "execution_count": 5,
     "metadata": {},
     "output_type": "execute_result"
    }
   ],
   "source": [
    "val moviesRaw = spark.read\n",
    "    .option(\"header\", \"true\")\n",
    "    .option(\"multiline\", \"true\")\n",
    "    .option(\"escape\", \"\\\"\")\n",
    "    .csv(moviePath)\n",
    "    .rdd\n",
    "    .zipWithIndex\n",
    "    .map(x => (x._2, x._1.getString(0), x._1.getString(1), x._1.getString(7))) // (id, title, genres)\n",
    "\n",
    "moviesRaw.take(5).foreach(println)"
   ]
  },
  {
   "cell_type": "code",
   "execution_count": 6,
   "metadata": {},
   "outputs": [
    {
     "data": {
      "text/html": [
       "<div><code>collect</code> at <code>cmd6.sc:4</code></div>"
      ]
     },
     "metadata": {},
     "output_type": "display_data"
    },
    {
     "data": {
      "text/plain": [
       "\u001b[36mstopWords\u001b[39m: \u001b[32mSet\u001b[39m[\u001b[32mString\u001b[39m] = \u001b[33mSet\u001b[39m(\n",
       "  \u001b[32m\"used\"\u001b[39m,\n",
       "  \u001b[32m\"e\"\u001b[39m,\n",
       "  \u001b[32m\"down\"\u001b[39m,\n",
       "  \u001b[32m\"side\"\u001b[39m,\n",
       "  \u001b[32m\"wanting\"\u001b[39m,\n",
       "  \u001b[32m\"interesting\"\u001b[39m,\n",
       "  \u001b[32m\"number\"\u001b[39m,\n",
       "  \u001b[32m\"behind\"\u001b[39m,\n",
       "  \u001b[32m\"ways\"\u001b[39m,\n",
       "  \u001b[32m\"for\"\u001b[39m,\n",
       "  \u001b[32m\"s\"\u001b[39m,\n",
       "  \u001b[32m\"find\"\u001b[39m,\n",
       "  \u001b[32m\"pointing\"\u001b[39m,\n",
       "  \u001b[32m\"further\"\u001b[39m,\n",
       "  \u001b[32m\"works\"\u001b[39m,\n",
       "  \u001b[32m\"working\"\u001b[39m,\n",
       "  \u001b[32m\"x\"\u001b[39m,\n",
       "  \u001b[32m\"largely\"\u001b[39m,\n",
       "  \u001b[32m\"any\"\u001b[39m,\n",
       "  \u001b[32m\"ended\"\u001b[39m,\n",
       "  \u001b[32m\"across\"\u001b[39m,\n",
       "  \u001b[32m\"years\"\u001b[39m,\n",
       "  \u001b[32m\"young\"\u001b[39m,\n",
       "  \u001b[32m\"area\"\u001b[39m,\n",
       "  \u001b[32m\"this\"\u001b[39m,\n",
       "  \u001b[32m\"in\"\u001b[39m,\n",
       "  \u001b[32m\"needing\"\u001b[39m,\n",
       "  \u001b[32m\"myself\"\u001b[39m,\n",
       "  \u001b[32m\"have\"\u001b[39m,\n",
       "  \u001b[32m\"needed\"\u001b[39m,\n",
       "  \u001b[32m\"your\"\u001b[39m,\n",
       "  \u001b[32m\"off\"\u001b[39m,\n",
       "  \u001b[32m\"once\"\u001b[39m,\n",
       "  \u001b[32m\"point\"\u001b[39m,\n",
       "  \u001b[32m\"are\"\u001b[39m,\n",
       "  \u001b[32m\"is\"\u001b[39m,\n",
       "  \u001b[32m\"his\"\u001b[39m,\n",
       "  \u001b[32m\"why\"\u001b[39m,\n",
       "..."
      ]
     },
     "execution_count": 6,
     "metadata": {},
     "output_type": "execute_result"
    }
   ],
   "source": [
    "val stopWords = spark.read\n",
    "    .textFile(stopWordsPath)\n",
    "    .rdd\n",
    "    .map(_.trim.toLowerCase.replaceAll(\"[^a-z]\", \"\"))\n",
    "    .collect()\n",
    "    .toSet"
   ]
  },
  {
   "cell_type": "code",
   "execution_count": 7,
   "metadata": {},
   "outputs": [
    {
     "data": {
      "text/html": [
       "<div><code>collect</code> at <code>cmd7.sc:5</code></div>"
      ]
     },
     "metadata": {},
     "output_type": "display_data"
    },
    {
     "name": "stdout",
     "output_type": "stream",
     "text": [
      "(professed,profess)\n",
      "(pathogens,pathogen)\n",
      "(purifies,purify)\n",
      "(phosphates,phosphate)\n",
      "(buns,bun)\n"
     ]
    },
    {
     "data": {
      "text/plain": [
       "\u001b[36mlemmatization\u001b[39m: \u001b[32mMap\u001b[39m[\u001b[32mString\u001b[39m, \u001b[32mString\u001b[39m] = \u001b[33mMap\u001b[39m(\n",
       "  \u001b[32m\"professed\"\u001b[39m -> \u001b[32m\"profess\"\u001b[39m,\n",
       "  \u001b[32m\"pathogens\"\u001b[39m -> \u001b[32m\"pathogen\"\u001b[39m,\n",
       "  \u001b[32m\"purifies\"\u001b[39m -> \u001b[32m\"purify\"\u001b[39m,\n",
       "  \u001b[32m\"phosphates\"\u001b[39m -> \u001b[32m\"phosphate\"\u001b[39m,\n",
       "  \u001b[32m\"buns\"\u001b[39m -> \u001b[32m\"bun\"\u001b[39m,\n",
       "  \u001b[32m\"fathering\"\u001b[39m -> \u001b[32m\"father\"\u001b[39m,\n",
       "  \u001b[32m\"soapiest\"\u001b[39m -> \u001b[32m\"soapy\"\u001b[39m,\n",
       "  \u001b[32m\"basils\"\u001b[39m -> \u001b[32m\"basil\"\u001b[39m,\n",
       "  \u001b[32m\"showdowns\"\u001b[39m -> \u001b[32m\"showdown\"\u001b[39m,\n",
       "  \u001b[32m\"redcurrants\"\u001b[39m -> \u001b[32m\"redcurrant\"\u001b[39m,\n",
       "  \u001b[32m\"night-watchmen\"\u001b[39m -> \u001b[32m\"night-watchman\"\u001b[39m,\n",
       "  \u001b[32m\"regularizing\"\u001b[39m -> \u001b[32m\"regularize\"\u001b[39m,\n",
       "  \u001b[32m\"boutiques\"\u001b[39m -> \u001b[32m\"boutique\"\u001b[39m,\n",
       "  \u001b[32m\"satsumas\"\u001b[39m -> \u001b[32m\"satsuma\"\u001b[39m,\n",
       "  \u001b[32m\"healings\"\u001b[39m -> \u001b[32m\"healing\"\u001b[39m,\n",
       "  \u001b[32m\"breaks\"\u001b[39m -> \u001b[32m\"break\"\u001b[39m,\n",
       "  \u001b[32m\"cut-backs\"\u001b[39m -> \u001b[32m\"cut-back\"\u001b[39m,\n",
       "  \u001b[32m\"sneezed\"\u001b[39m -> \u001b[32m\"sneeze\"\u001b[39m,\n",
       "  \u001b[32m\"forgotten\"\u001b[39m -> \u001b[32m\"forget\"\u001b[39m,\n",
       "  \u001b[32m\"insinuates\"\u001b[39m -> \u001b[32m\"insinuate\"\u001b[39m,\n",
       "  \u001b[32m\"stocktakings\"\u001b[39m -> \u001b[32m\"stocktaking\"\u001b[39m,\n",
       "  \u001b[32m\"cartwheeled\"\u001b[39m -> \u001b[32m\"cartwheel\"\u001b[39m,\n",
       "  \u001b[32m\"boxers\"\u001b[39m -> \u001b[32m\"boxer\"\u001b[39m,\n",
       "  \u001b[32m\"dynasties\"\u001b[39m -> \u001b[32m\"dynasty\"\u001b[39m,\n",
       "  \u001b[32m\"hydrologists\"\u001b[39m -> \u001b[32m\"hydrologist\"\u001b[39m,\n",
       "  \u001b[32m\"sectors\"\u001b[39m -> \u001b[32m\"sector\"\u001b[39m,\n",
       "  \u001b[32m\"radiopharmaceuticals\"\u001b[39m -> \u001b[32m\"radiopharmaceutical\"\u001b[39m,\n",
       "  \u001b[32m\"embedded\"\u001b[39m -> \u001b[32m\"embed\"\u001b[39m,\n",
       "  \u001b[32m\"rationalising\"\u001b[39m -> \u001b[32m\"rationalise\"\u001b[39m,\n",
       "  \u001b[32m\"respecting\"\u001b[39m -> \u001b[32m\"respect\"\u001b[39m,\n",
       "  \u001b[32m\"exorcists\"\u001b[39m -> \u001b[32m\"exorcist\"\u001b[39m,\n",
       "  \u001b[32m\"allotments\"\u001b[39m -> \u001b[32m\"allotment\"\u001b[39m,\n",
       "  \u001b[32m\"styrenes\"\u001b[39m -> \u001b[32m\"styrene\"\u001b[39m,\n",
       "  \u001b[32m\"derided\"\u001b[39m -> \u001b[32m\"deride\"\u001b[39m,\n",
       "  \u001b[32m\"bricked\"\u001b[39m -> \u001b[32m\"brick\"\u001b[39m,\n",
       "  \u001b[32m\"sputtering\"\u001b[39m -> \u001b[32m\"sputter\"\u001b[39m,\n",
       "  \u001b[32m\"Rumanians\"\u001b[39m -> \u001b[32m\"Rumanian\"\u001b[39m,\n",
       "  \u001b[32m\"accosted\"\u001b[39m -> \u001b[32m\"accost\"\u001b[39m,\n",
       "..."
      ]
     },
     "execution_count": 7,
     "metadata": {},
     "output_type": "execute_result"
    }
   ],
   "source": [
    "val lemmatization = spark.read\n",
    "    .textFile(lemmatizationPath)\n",
    "    .rdd\n",
    "    .map(_.split(\"\\\\s+\"))\n",
    "    .map(x => (x(1), x(0)))\n",
    "    .collect()\n",
    "    .toMap\n",
    "\n",
    "lemmatization.take(5).foreach(println)"
   ]
  },
  {
   "cell_type": "code",
   "execution_count": 8,
   "metadata": {},
   "outputs": [
    {
     "data": {
      "text/html": [
       "<div><code>take</code> at <code>cmd8.sc:13</code></div>"
      ]
     },
     "metadata": {},
     "output_type": "display_data"
    },
    {
     "name": "stdout",
     "output_type": "stream",
     "text": [
      "(0,1901,Kansas Saloon Smashers,[Ljava.lang.String;@22b3e273)\n",
      "(1,1901,Love by the Light of the Moon,[Ljava.lang.String;@1d78f48)\n",
      "(2,1901,The Martyred Presidents,[Ljava.lang.String;@1837d478)\n",
      "(3,1901,Terrible Teddy, the Grizzly King,[Ljava.lang.String;@52fafc08)\n",
      "(4,1902,Jack and the Beanstalk,[Ljava.lang.String;@6190c083)\n"
     ]
    },
    {
     "data": {
      "text/plain": [
       "\u001b[36mmovies\u001b[39m: \u001b[32morg\u001b[39m.\u001b[32mapache\u001b[39m.\u001b[32mspark\u001b[39m.\u001b[32mrdd\u001b[39m.\u001b[32mRDD\u001b[39m[(\u001b[32mLong\u001b[39m, \u001b[32mString\u001b[39m, \u001b[32mString\u001b[39m, \u001b[32mArray\u001b[39m[\u001b[32mString\u001b[39m])] = MapPartitionsRDD[21] at map at cmd8.sc:1"
      ]
     },
     "execution_count": 8,
     "metadata": {},
     "output_type": "execute_result"
    }
   ],
   "source": [
    "val movies = moviesRaw.map { case (id, year, title, plot) =>\n",
    "    val processedPlot = plot.toLowerCase\n",
    "        .replaceAll(\"[^a-z ]\", \" \")\n",
    "        .split(\" \")\n",
    "        .filterNot(stopWords.contains)\n",
    "        .filterNot(_.isEmpty)\n",
    "        .map(token => lemmatization.getOrElse(token, token))\n",
    "        .filter(_.length > 1)\n",
    "\n",
    "    (id, year, title, processedPlot)\n",
    "}\n",
    "\n",
    "movies.take(5).foreach(println)"
   ]
  },
  {
   "cell_type": "code",
   "execution_count": 9,
   "metadata": {},
   "outputs": [
    {
     "data": {
      "text/html": [
       "<div><code>first</code> at <code>cmd9.sc:1</code></div>"
      ]
     },
     "metadata": {},
     "output_type": "display_data"
    },
    {
     "data": {
      "text/plain": [
       "\u001b[36mfirstEntry\u001b[39m: (\u001b[32mLong\u001b[39m, \u001b[32mString\u001b[39m, \u001b[32mString\u001b[39m, \u001b[32mArray\u001b[39m[\u001b[32mString\u001b[39m]) = (\n",
       "  \u001b[32m0L\u001b[39m,\n",
       "  \u001b[32m\"1901\"\u001b[39m,\n",
       "  \u001b[32m\"Kansas Saloon Smashers\"\u001b[39m,\n",
       "  \u001b[33mArray\u001b[39m(\n",
       "    \u001b[32m\"bartender\"\u001b[39m,\n",
       "    \u001b[32m\"saloon\"\u001b[39m,\n",
       "    \u001b[32m\"serve\"\u001b[39m,\n",
       "    \u001b[32m\"drink\"\u001b[39m,\n",
       "    \u001b[32m\"customer\"\u001b[39m,\n",
       "    \u001b[32m\"fill\"\u001b[39m,\n",
       "    \u001b[32m\"stereotypically\"\u001b[39m,\n",
       "    \u001b[32m\"irish\"\u001b[39m,\n",
       "    \u001b[32m\"bucket\"\u001b[39m,\n",
       "    \u001b[32m\"beer\"\u001b[39m,\n",
       "    \u001b[32m\"carrie\"\u001b[39m,\n",
       "    \u001b[32m\"nation\"\u001b[39m,\n",
       "    \u001b[32m\"follower\"\u001b[39m,\n",
       "    \u001b[32m\"burst\"\u001b[39m,\n",
       "    \u001b[32m\"inside\"\u001b[39m,\n",
       "    \u001b[32m\"assault\"\u001b[39m,\n",
       "    \u001b[32m\"irish\"\u001b[39m,\n",
       "    \u001b[32m\"pull\"\u001b[39m,\n",
       "    \u001b[32m\"hat\"\u001b[39m,\n",
       "    \u001b[32m\"eye\"\u001b[39m,\n",
       "    \u001b[32m\"dump\"\u001b[39m,\n",
       "    \u001b[32m\"beer\"\u001b[39m,\n",
       "    \u001b[32m\"head\"\u001b[39m,\n",
       "    \u001b[32m\"begin\"\u001b[39m,\n",
       "    \u001b[32m\"wreck\"\u001b[39m,\n",
       "    \u001b[32m\"bar\"\u001b[39m,\n",
       "    \u001b[32m\"smash\"\u001b[39m,\n",
       "    \u001b[32m\"fixture\"\u001b[39m,\n",
       "    \u001b[32m\"mirror\"\u001b[39m,\n",
       "    \u001b[32m\"break\"\u001b[39m,\n",
       "    \u001b[32m\"cash\"\u001b[39m,\n",
       "    \u001b[32m\"register\"\u001b[39m,\n",
       "    \u001b[32m\"bartender\"\u001b[39m,\n",
       "    \u001b[32m\"spray\"\u001b[39m,\n",
       "..."
      ]
     },
     "execution_count": 9,
     "metadata": {},
     "output_type": "execute_result"
    }
   ],
   "source": [
    "val firstEntry = movies.first()"
   ]
  },
  {
   "cell_type": "markdown",
   "metadata": {},
   "source": [
    "## Obtaining a Vocabulary"
   ]
  },
  {
   "cell_type": "code",
   "execution_count": 10,
   "metadata": {},
   "outputs": [
    {
     "data": {
      "text/html": [
       "<div><code>distinct</code> at <code>cmd10.sc:2</code></div>"
      ]
     },
     "metadata": {},
     "output_type": "display_data"
    },
    {
     "data": {
      "text/html": [
       "<div><code>take</code> at <code>cmd10.sc:5</code></div>"
      ]
     },
     "metadata": {},
     "output_type": "display_data"
    },
    {
     "name": "stdout",
     "output_type": "stream",
     "text": [
      "mistretta\n",
      "shh\n",
      "sammee\n",
      "bone\n",
      "gerven\n",
      "nothin\n",
      "rostom\n",
      "mislabel\n",
      "fred\n",
      "bresac\n"
     ]
    },
    {
     "data": {
      "text/plain": [
       "\u001b[36mvocabulary\u001b[39m: \u001b[32morg\u001b[39m.\u001b[32mapache\u001b[39m.\u001b[32mspark\u001b[39m.\u001b[32mrdd\u001b[39m.\u001b[32mRDD\u001b[39m[\u001b[32mString\u001b[39m] = MapPartitionsRDD[25] at distinct at cmd10.sc:2"
      ]
     },
     "execution_count": 10,
     "metadata": {},
     "output_type": "execute_result"
    }
   ],
   "source": [
    "val vocabulary = movies \n",
    "    .flatMap { case (_, _, _, cleanedPlot) => cleanedPlot }\n",
    "    .distinct\n",
    "\n",
    "vocabulary.take(10).foreach(println)"
   ]
  },
  {
   "cell_type": "code",
   "execution_count": 11,
   "metadata": {},
   "outputs": [
    {
     "data": {
      "text/html": [
       "<div><code>take</code> at <code>cmd11.sc:5</code></div>"
      ]
     },
     "metadata": {},
     "output_type": "display_data"
    },
    {
     "name": "stdout",
     "output_type": "stream",
     "text": [
      "(0,mistretta)\n",
      "(1,shh)\n",
      "(2,sammee)\n",
      "(3,bone)\n",
      "(4,gerven)\n",
      "(5,nothin)\n",
      "(6,rostom)\n",
      "(7,mislabel)\n",
      "(8,fred)\n",
      "(9,bresac)\n"
     ]
    },
    {
     "data": {
      "text/plain": [
       "\u001b[36mvocabularyIndexed\u001b[39m: \u001b[32morg\u001b[39m.\u001b[32mapache\u001b[39m.\u001b[32mspark\u001b[39m.\u001b[32mrdd\u001b[39m.\u001b[32mRDD\u001b[39m[(\u001b[32mLong\u001b[39m, \u001b[32mString\u001b[39m)] = MapPartitionsRDD[27] at map at cmd11.sc:3"
      ]
     },
     "execution_count": 11,
     "metadata": {},
     "output_type": "execute_result"
    }
   ],
   "source": [
    "val vocabularyIndexed = vocabulary\n",
    "    .zipWithIndex\n",
    "    .map(_.swap)\n",
    "\n",
    "vocabularyIndexed.take(10).foreach(println)"
   ]
  },
  {
   "cell_type": "markdown",
   "metadata": {},
   "source": [
    "## Calculating Documents Frequencies (DF)"
   ]
  },
  {
   "cell_type": "code",
   "execution_count": 12,
   "metadata": {},
   "outputs": [
    {
     "data": {
      "text/html": [
       "<div><code>count</code> at <code>cmd12.sc:1</code></div>"
      ]
     },
     "metadata": {},
     "output_type": "display_data"
    },
    {
     "data": {
      "text/html": [
       "<div><code>count</code> at <code>cmd12.sc:2</code></div>"
      ]
     },
     "metadata": {},
     "output_type": "display_data"
    },
    {
     "data": {
      "text/plain": [
       "\u001b[36mnumDocs\u001b[39m: \u001b[32mLong\u001b[39m = \u001b[32m34886L\u001b[39m\n",
       "\u001b[36mvocabularySize\u001b[39m: \u001b[32mInt\u001b[39m = \u001b[32m112737\u001b[39m"
      ]
     },
     "execution_count": 12,
     "metadata": {},
     "output_type": "execute_result"
    }
   ],
   "source": [
    "val numDocs = movies.count\n",
    "val vocabularySize = vocabularyIndexed.count.toInt"
   ]
  },
  {
   "cell_type": "code",
   "execution_count": 13,
   "metadata": {},
   "outputs": [
    {
     "data": {
      "text/plain": [
       "defined \u001b[32mfunction\u001b[39m \u001b[36mdfToIdf\u001b[39m"
      ]
     },
     "execution_count": 13,
     "metadata": {},
     "output_type": "execute_result"
    }
   ],
   "source": [
    "def dfToIdf(df: Int, totalDocs: Long): Double = {\n",
    "    math.log(totalDocs.toDouble / df)\n",
    "}"
   ]
  },
  {
   "cell_type": "code",
   "execution_count": 14,
   "metadata": {},
   "outputs": [
    {
     "data": {
      "text/html": [
       "<div><code>map</code> at <code>cmd14.sc:3</code></div>"
      ]
     },
     "metadata": {},
     "output_type": "display_data"
    },
    {
     "data": {
      "text/html": [
       "<div><code>take</code> at <code>cmd14.sc:9</code></div>"
      ]
     },
     "metadata": {},
     "output_type": "display_data"
    },
    {
     "name": "stdout",
     "output_type": "stream",
     "text": [
      "(mistretta,0,10.45984088157808)\n",
      "(shh,1,10.45984088157808)\n",
      "(sammee,2,10.45984088157808)\n",
      "(bone,3,5.066213335225719)\n",
      "(gerven,4,10.45984088157808)\n",
      "(nothin,5,9.36122859290997)\n",
      "(rostom,6,9.36122859290997)\n",
      "(mislabel,7,9.36122859290997)\n",
      "(fred,8,4.519669628857649)\n",
      "(bresac,9,10.45984088157808)\n"
     ]
    },
    {
     "data": {
      "text/plain": [
       "\u001b[36mvocabIdfs\u001b[39m: \u001b[32morg\u001b[39m.\u001b[32mapache\u001b[39m.\u001b[32mspark\u001b[39m.\u001b[32mrdd\u001b[39m.\u001b[32mRDD\u001b[39m[(\u001b[32mString\u001b[39m, \u001b[32mLong\u001b[39m, \u001b[32mDouble\u001b[39m)] = MapPartitionsRDD[33] at map at cmd14.sc:7"
      ]
     },
     "execution_count": 14,
     "metadata": {},
     "output_type": "execute_result"
    }
   ],
   "source": [
    "val vocabIdfs = movies\n",
    "    .flatMap { case (_, _, _, cleanedPlot) => cleanedPlot.distinct }\n",
    "    .map { word => (word, 1) }\n",
    "    .reduceByKey(_ + _)\n",
    "    .zipWithIndex\n",
    "    .map { case ((word, count), id) => (word, id, count) }\n",
    "    .map { case (word, id, count) => (word, id, dfToIdf(count, numDocs)) }\n",
    "\n",
    "vocabIdfs.take(10).foreach(println)"
   ]
  },
  {
   "cell_type": "markdown",
   "metadata": {},
   "source": [
    "vocabIdfs.take(10).foreach(println)"
   ]
  },
  {
   "cell_type": "code",
   "execution_count": 19,
   "metadata": {},
   "outputs": [
    {
     "data": {
      "text/html": [
       "<div><code>take</code> at <code>cmd19.sc:11</code></div>"
      ]
     },
     "metadata": {},
     "output_type": "display_data"
    },
    {
     "name": "stdout",
     "output_type": "stream",
     "text": [
      "(eye,0,1)\n",
      "(register,0,1)\n",
      "(wreck,0,1)\n",
      "(begin,0,1)\n",
      "(break,0,1)\n",
      "(nation,0,2)\n",
      "(appear,0,1)\n",
      "(head,0,1)\n",
      "(serve,0,1)\n",
      "(burst,0,1)\n"
     ]
    },
    {
     "data": {
      "text/plain": [
       "\u001b[36mtokenCounts\u001b[39m: \u001b[32morg\u001b[39m.\u001b[32mapache\u001b[39m.\u001b[32mspark\u001b[39m.\u001b[32mrdd\u001b[39m.\u001b[32mRDD\u001b[39m[(\u001b[32mString\u001b[39m, \u001b[32mLong\u001b[39m, \u001b[32mInt\u001b[39m)] = MapPartitionsRDD[34] at flatMap at cmd19.sc:2"
      ]
     },
     "execution_count": 19,
     "metadata": {},
     "output_type": "execute_result"
    }
   ],
   "source": [
    "val tokenCounts = movies\n",
    "    .flatMap { case (id, title, genres, plotTokens) => {\n",
    "        val tfs = plotTokens\n",
    "            .groupBy(identity)\n",
    "            .mapValues(_.size)\n",
    "            .map { case (token, count) => (token, id, count) }\n",
    "            .toList\n",
    "        tfs\n",
    "    }}\n",
    "\n",
    "tokenCounts.take(10).foreach(println)"
   ]
  },
  {
   "cell_type": "code",
   "execution_count": 16,
   "metadata": {},
   "outputs": [
    {
     "data": {
      "text/html": [
       "<div><code>take</code> at <code>cmd16.sc:1</code></div>"
      ]
     },
     "metadata": {},
     "output_type": "display_data"
    },
    {
     "name": "stdout",
     "output_type": "stream",
     "text": [
      "(mistretta,0,10.45984088157808)\n",
      "(shh,1,10.45984088157808)\n",
      "(sammee,2,10.45984088157808)\n",
      "(bone,3,5.066213335225719)\n",
      "(gerven,4,10.45984088157808)\n",
      "(nothin,5,9.36122859290997)\n",
      "(rostom,6,9.36122859290997)\n",
      "(mislabel,7,9.36122859290997)\n",
      "(fred,8,4.519669628857649)\n",
      "(bresac,9,10.45984088157808)\n"
     ]
    }
   ],
   "source": [
    "vocabIdfs.take(10).foreach(println)"
   ]
  },
  {
   "cell_type": "code",
   "execution_count": 17,
   "metadata": {},
   "outputs": [
    {
     "data": {
      "text/plain": [
       "\u001b[32mimport \u001b[39m\u001b[36mscala.collection.immutable.Map\u001b[39m"
      ]
     },
     "execution_count": 17,
     "metadata": {},
     "output_type": "execute_result"
    }
   ],
   "source": [
    "import scala.collection.immutable.Map"
   ]
  },
  {
   "cell_type": "code",
   "execution_count": 25,
   "metadata": {},
   "outputs": [
    {
     "data": {
      "text/plain": [
       "defined \u001b[32mfunction\u001b[39m \u001b[36mcalc_magnitude\u001b[39m\n",
       "defined \u001b[32mfunction\u001b[39m \u001b[36mcalc_cosign\u001b[39m"
      ]
     },
     "execution_count": 25,
     "metadata": {},
     "output_type": "execute_result"
    }
   ],
   "source": [
    "def calc_magnitude(v: List[Double]) = {\n",
    "  math.sqrt(v.map(x => x * x).sum)\n",
    "}\n",
    "\n",
    "def calc_cosign(doc_map_1: Map[Long, Double], doc_map_2: Map[Long, Double]) = {\n",
    "  val dot_product = doc_map_1\n",
    "    .map({case (k, v) => (k, (v, doc_map_2.get(k)))})\n",
    "    .map({\n",
    "      case (k, (v1, Some(v2))) => (v1 * v2)\n",
    "      case (k, (v1, None)) => (0)\n",
    "    }).sum\n",
    "\n",
    "  val v1 = doc_map_1.map({case (k, v) => v}).toList\n",
    "  val v2 = doc_map_2.map({case (k, v) => v}).toList\n",
    "\n",
    "  dot_product / (calc_magnitude(v1) * calc_magnitude(v2))\n",
    "}\n"
   ]
  },
  {
   "cell_type": "code",
   "execution_count": 20,
   "metadata": {},
   "outputs": [
    {
     "data": {
      "text/html": [
       "<div><code>map</code> at <code>cmd20.sc:2</code></div>"
      ]
     },
     "metadata": {},
     "output_type": "display_data"
    },
    {
     "data": {
      "text/html": [
       "<div><code>map</code> at <code>cmd20.sc:3</code></div>"
      ]
     },
     "metadata": {},
     "output_type": "display_data"
    },
    {
     "data": {
      "text/html": [
       "<div><code>map</code> at <code>cmd20.sc:4</code></div>"
      ]
     },
     "metadata": {},
     "output_type": "display_data"
    },
    {
     "data": {
      "text/html": [
       "<div><code>take</code> at <code>cmd20.sc:9</code></div>"
      ]
     },
     "metadata": {},
     "output_type": "display_data"
    },
    {
     "name": "stdout",
     "output_type": "stream",
     "text": [
      "(19021,Map(111056 -> 2.83327067528742, 44857 -> 5.844720364736821, 23194 -> 3.9087605465346753, 57729 -> 3.231452430004476, 92707 -> 2.6446338193889924, 61171 -> 5.4831071391575055, 50482 -> 3.742036186554389, 13110 -> 3.2851165717417037, 79290 -> 3.6257321427642415, 85724 -> 5.0088024280123795, 99912 -> 2.1852289353685275, 11913 -> 3.273696577055755, 108599 -> 4.089939898749853, 104728 -> 3.124590565737507, 97570 -> 2.302183866381607, 84535 -> 2.8435573199976956, 12924 -> 3.567199240405991, 98148 -> 5.3007855823635515, 110782 -> 48.83346850509067, 89834 -> 1.8170728672537764, 56765 -> 2.3771297473404998, 51877 -> 4.1499226033515635, 44939 -> 1.0841555770150595, 23995 -> 5.372244546345696, 68355 -> 4.27157675849549, 61153 -> 2.624657126311332, 1836 -> 6.72623900616664, 98646 -> 2.27895993958169, 4740 -> 4.538262461934265, 56422 -> 4.0431085990657545, 92495 -> 6.609693279868021, 650 -> 8.792914874807488, 78273 -> 20.91968176315616, 94631 -> 4.196442618986456, 53999 -> 3.683333889205897, 25629 -> 1.731576720081902, 91233 -> 3.799265731738394, 74976 -> 3.4079852586221864, 68229 -> 2.237555807705363, 31538 -> 4.223471291374376, 38354 -> 1.908826141686332, 37531 -> 3.0549533059619547, 10983 -> 10.263929425576999, 7225 -> 6.169381440429689, 109050 -> 1.5197356684499577, 15502 -> 4.710447895669827, 48405 -> 2.7196113568148985, 109976 -> 5.1715738508835445, 94348 -> 5.851225110607981, 26373 -> 3.173649166875698, 106240 -> 9.766693701018134, 21410 -> 3.385724065380718, 77265 -> 5.181726222347563, 32813 -> 4.313511623909183, 6319 -> 3.2120482998102338, 87863 -> 5.202345509550298, 55578 -> 3.2028381744860073, 16467 -> 0.8433023369179041, 38329 -> 5.07733631998213, 104859 -> 3.055561763540812, 8060 -> 4.779668272561013, 20760 -> 2.0391585905426863, 44424 -> 1.3922168118034928, 89511 -> 5.295054907654566, 54616 -> 9.073546520458189, 78824 -> 2.5518214369456094, 84343 -> 3.3524154074673755, 87789 -> 6.1423527680417696, 84118 -> 2.198572731000432, 32474 -> 2.4050006604770555, 65132 -> 26.48901340525241, 58156 -> 4.107211485258514, 42160 -> 4.286054777676143, 74515 -> 2.711380857678383, 8115 -> 3.192315453749908, 63302 -> 4.599054658112214, 1757 -> 1.005613597149788, 14288 -> 3.3916688811900384, 84864 -> 3.435191851124444, 36837 -> 2.83327067528742, 53510 -> 3.0109247790338793, 9568 -> 6.489548968025958))\n",
      "(28730,Map(93637 -> 3.02794896477028, 66700 -> 4.883891778431764, 4183 -> 3.8121525080147505, 50031 -> 6.365496319355979, 104102 -> 3.4779062044216915, 83889 -> 4.817933810639967, 3820 -> 2.6917305030520913, 98368 -> 4.27157675849549, 6856 -> 2.544127682195964, 86673 -> 4.007791927140854, 20725 -> 10.45984088157808, 96910 -> 3.7193215219718567, 87925 -> 4.880111055591858, 97057 -> 4.576518493089801, 4817 -> 4.596209705979983, 30185 -> 3.960053840922226, 103578 -> 4.2818967675274795, 17069 -> 1.174393037115092, 109236 -> 4.357282286964511, 1219 -> 1.625212659560714, 78851 -> 5.26688403068787, 32813 -> 4.313511623909183, 6069 -> 3.548093581326406, 98585 -> 3.5960374901251257, 73451 -> 6.547817876149934, 50900 -> 6.005493585324572, 30678 -> 14.11728699983185, 51230 -> 1.3695235522016278, 101590 -> 4.286054777676143, 1757 -> 1.005613597149788, 105002 -> 5.5325871964208755, 106637 -> 2.4794751164668343, 69742 -> 5.6891562571124155, 81918 -> 3.7764799358118055, 93668 -> 3.91019013934427, 58602 -> 1.5612020878978985))\n",
      "(31037,Map(96024 -> 3.068425646902722, 110568 -> 1.4101388555647099, 57729 -> 3.231452430004476, 24644 -> 5.449205587481824, 67849 -> 3.7456703516686085, 88752 -> 4.382198638229045, 102424 -> 4.872592223177831, 72105 -> 31.379522644734237, 90037 -> 6.017189625087764, 87366 -> 4.766108742775381, 60430 -> 3.90733299454349, 108009 -> 3.5371969901021925, 7839 -> 2.5919693911817587, 108890 -> 2.2073947913311276, 87327 -> 2.4050430168158057, 90698 -> 1.5440058074018037, 17026 -> 4.223471291374376, 99912 -> 4.370457870737055, 45682 -> 5.94898137506123, 26996 -> 2.0607557786421715, 39212 -> 2.295615229312253, 41796 -> 3.031507687387274, 42748 -> 2.14402974969454, 92891 -> 4.375341468502909, 104728 -> 1.5622952828687535, 66779 -> 10.45984088157808, 61677 -> 5.815449982436707, 86026 -> 1.153645023958376, 87929 -> 4.079718344678315, 14859 -> 3.2744538659976636, 76102 -> 2.72266080374345, 108054 -> 4.865129501976241, 65828 -> 8.58884605469332, 52331 -> 4.613402106520356, 98368 -> 4.27157675849549, 78017 -> 9.355071087644758, 13206 -> 3.7468846809010103, 89834 -> 1.8170728672537764, 89789 -> 3.187442489008034, 44939 -> 3.2524667310451782, 60551 -> 4.76948142725402, 109108 -> 1.516726573486296, 86970 -> 5.5620010816271686, 29548 -> 1.8243314633438004, 9753 -> 6.116035459724396, 76346 -> 4.924355509115959, 83732 -> 1.814782319163947, 84361 -> 3.057389360759836, 88397 -> 7.894891524116543, 89968 -> 5.97120451184594, 16661 -> 10.45984088157808, 20745 -> 1.7493861933295536, 48861 -> 7.626627537521864, 103778 -> 5.577038958991709, 65633 -> 3.4631593934015417, 8800 -> 4.962374304990698, 106143 -> 1.6850640655340947, 42296 -> 7.3687984282197645, 41987 -> 2.717291913725391, 26274 -> 3.568214984525827, 59891 -> 2.643423897886279, 37559 -> 16.31451157716807, 25629 -> 1.731576720081902, 63304 -> 3.539169377329397, 83342 -> 9.766693701018134, 95707 -> 4.27440756924828, 68205 -> 1.7204645999427575, 90038 -> 87.90024330916322, 111701 -> 6.547817876149934, 71924 -> 3.8917629701661043, 110766 -> 10.45984088157808, 109502 -> 1.2360908226919798, 27949 -> 5.423624714291408, 95998 -> 2.6081797036888146, 35992 -> 3.3321471822306816, 87203 -> 2.839135794739818, 102789 -> 2.0793842137353136, 109050 -> 3.0394713368999153, 18378 -> 6.71797794526806, 50603 -> 1.38968254020176, 18990 -> 4.185078860336142, 95197 -> 9.766693701018134, 64304 -> 8.85040296914398, 95165 -> 2.747408226122407, 11201 -> 1.645361881567367, 31703 -> 27.22063956137457, 94348 -> 2.9256125553039904, 52294 -> 2.1335660941813157, 5657 -> 4.524946685958493, 3668 -> 4.081414697926493, 106097 -> 2.672873878963209, 40195 -> 1.4423573683112347, 6319 -> 3.2120482998102338, 8998 -> 54.44127912274914, 100824 -> 4.6191992242046815, 59546 -> 8.07318783608912, 47013 -> 2.8173167473451786, 95691 -> 2.3823937322468813, 48251 -> 73.21888617104656, 43837 -> 7.464108608024089, 107834 -> 2.7407110406713477, 38329 -> 5.07733631998213, 57191 -> 5.384667066344253, 22964 -> 3.790342791720201, 62427 -> 4.067584576779922, 57431 -> 1.5202599148577705, 86735 -> 2.124409403697283, 4490 -> 5.034890864096678, 50467 -> 3.8031143573996884, 51764 -> 7.106172205859053, 96970 -> 4.584910150726049, 97990 -> 3.6085560417941416, 94056 -> 3.082913334562231, 83721 -> 4.324275990496341, 92393 -> 1.0775660456944298, 76157 -> 7.424508709497529, 89243 -> 1.363789656004025, 49231 -> 1.9559355844887782, 203 -> 3.0028087924556996, 104 -> 4.183197392236436, 35431 -> 28.08368577872991, 92155 -> 5.0571634997058, 85501 -> 2.1051666196596175, 45556 -> 8.567947222944637, 59678 -> 4.723004070778046, 235 -> 8.46660842458123, 16303 -> 3.4779062044216915, 55365 -> 4.538262461934265, 82631 -> 1.003812993852793, 91013 -> 7.127636371402876, 12615 -> 6.746268814873773, 64951 -> 3.3925210329246047, 96417 -> 8.48646956098643, 52439 -> 3.6268091487918794, 108969 -> 2.65967781118512, 45445 -> 8.042849684303889, 56984 -> 3.8764316594193153, 106637 -> 2.4794751164668343, 57832 -> 1.5323940653218813, 56650 -> 6.6311994850889855, 66641 -> 4.930411794066656, 62305 -> 8.668081412350025, 45763 -> 2.6993738523646593, 62585 -> 2.2131449378595227, 3538 -> 2.5235381883761203, 4071 -> 1.5148993738132208, 23456 -> 1.934679520512666, 7367 -> 6.489548968025958, 18887 -> 10.45984088157808, 14450 -> 4.954415185367418, 18313 -> 3.6365547592223932, 58602 -> 1.5612020878978985))\n",
      "(23776,Map(66700 -> 4.883891778431764, 24850 -> 7.750098978384727, 53897 -> 3.684474790641689, 96505 -> 2.7380491047605444, 11468 -> 7.326034326606449, 7556 -> 1.1571948388178712, 104102 -> 3.4779062044216915, 91312 -> 4.419586170300666, 83960 -> 8.668081412350025, 6878 -> 4.017300715109881, 76102 -> 2.72266080374345, 28917 -> 4.426754659779279, 106579 -> 2.604683875696735, 53179 -> 4.522304676495653, 9533 -> 4.083113933679453, 2103 -> 3.571268422012717, 95872 -> 2.229263664431626, 112102 -> 9.36122859290997, 102552 -> 4.9107647966828605, 91048 -> 9.766693701018134, 106796 -> 7.324346665648931, 34781 -> 1.7201443437350563, 106382 -> 6.547817876149934, 103064 -> 5.3240424445278185, 87925 -> 4.880111055591858, 96750 -> 4.707268242752447, 42554 -> 9.36122859290997, 76398 -> 3.5887495869675345, 19181 -> 3.98440816487399, 95321 -> 1.499758353407679, 17069 -> 1.174393037115092, 63532 -> 2.555506039492985, 61547 -> 8.977158083575235, 98087 -> 2.758188518935855, 82806 -> 6.536823103083401, 63037 -> 8.85040296914398, 108509 -> 2.6724588550933794, 102789 -> 2.0793842137353136, 21555 -> 3.378132295472505, 65868 -> 10.45984088157808, 50603 -> 1.38968254020176, 63278 -> 7.687252159338299, 11201 -> 1.645361881567367, 77057 -> 2.7362784093001102, 9623 -> 3.7444574952433993, 83353 -> 12.034379250175528, 15577 -> 5.272455075737325, 16090 -> 6.508597162996653, 65510 -> 2.9582064236946666, 106004 -> 2.02472580119745, 78969 -> 8.380399339898243, 93476 -> 32.247782435118836, 47013 -> 5.634633494690357, 95691 -> 2.3823937322468813, 82311 -> 3.5371969901021925, 96423 -> 2.997051724165632, 62427 -> 2.7117230511866146, 60050 -> 2.1849740608928263, 75860 -> 1.6571680412652618, 16221 -> 10.45984088157808, 100335 -> 4.939205391715434, 92393 -> 1.0775660456944298, 57034 -> 5.473441578623497, 76157 -> 3.7122543547487643, 52819 -> 4.186963875031912, 29075 -> 4.934387942446296, 23229 -> 3.3249500300121957, 23114 -> 3.0647333350155943, 80286 -> 3.7578805155755397, 103988 -> 31.379522644734237, 82631 -> 4.015251975411172, 69265 -> 8.85040296914398, 93492 -> 4.880111055591858, 110978 -> 4.147335905200493, 57832 -> 1.5323940653218813, 31053 -> 3.634302926386323, 45763 -> 2.6993738523646593, 91503 -> 3.872290866753284))\n",
      "(34207,Map(2131 -> 2.7442713470578717, 68939 -> 4.38910315357559, 63263 -> 5.197150692673195, 50092 -> 4.350593298813715, 31330 -> 5.5923064311224975, 104728 -> 1.5622952828687535, 80270 -> 4.473388876293642, 73640 -> 2.396777970251288, 12021 -> 1.7952627032487845, 39763 -> 2.6470580630004985))\n",
      "(29127,Map(10198 -> 3.946610770665773, 10431 -> 32.61576216439082, 53675 -> 15.13893824736383, 42588 -> 2.800197927013398, 79175 -> 1.0803486268565852, 70676 -> 4.821486212244334, 106579 -> 2.604683875696735, 44939 -> 1.0841555770150595, 5266 -> 1.5276283692488668, 56797 -> 2.6152082371133996, 92596 -> 5.107982748102014, 28073 -> 3.279009682533524, 10716 -> 12.466176237468297, 650 -> 2.9309716249358293, 43497 -> 3.2586699982964014, 16348 -> 2.329781841585284, 85152 -> 19.53338740203627, 25629 -> 1.731576720081902, 74613 -> 2.3224450515214294, 75537 -> 4.140872767831645, 50603 -> 4.16904762060528, 2489 -> 2.5033640835412987, 82687 -> 2.1885482285986684, 34375 -> 2.3016109646185874, 31210 -> 1.315960876302167, 52866 -> 3.4549588918652203, 33292 -> 5.416415764658834, 96794 -> 1.1383169806412825, 91603 -> 4.4339749077527655, 77094 -> 6.609693279868021, 74547 -> 3.1314035286829185, 45819 -> 5.71490875321483, 108281 -> 5.295054907654566, 42790 -> 4.0269007888389, 14208 -> 27.22063956137457, 4784 -> 1.4789136739297024))\n",
      "(9831,Map(101533 -> 3.228553877250465, 37985 -> 16.760798679796487, 34616 -> 4.755495206799395, 45392 -> 2.6980958969191673, 10399 -> 2.7727607257949454, 111802 -> 7.058643499915925, 96024 -> 3.068425646902722, 58698 -> 3.2453364674269363, 15844 -> 4.590661225662076, 42459 -> 11.409343072199064, 29770 -> 2.556614072847347, 58382 -> 6.41678961374353, 75630 -> 3.430753317428418, 32427 -> 5.435960360731804, 80202 -> 2.993041406559478, 89453 -> 1.9498737352535822, 108710 -> 2.631006353989991, 25430 -> 4.0865210920010675, 104102 -> 3.4779062044216915, 14689 -> 4.438817532228554, 109066 -> 3.2951205028062227, 46848 -> 4.21956503640731, 50889 -> 46.80614296454985, 107135 -> 3.2490224281058597, 36105 -> 10.052336237672723, 90698 -> 9.264034844410823, 94659 -> 3.342635378413736, 79175 -> 1.0803486268565852, 71086 -> 2.722224598720176, 49467 -> 6.904492820088667, 13820 -> 6.30259616807778, 67524 -> 6.197161004536765, 11200 -> 2.535044967621645, 91500 -> 2.812532049221842, 107827 -> 4.9833773296465695, 56455 -> 3.2120482998102338, 6951 -> 6.017189625087764, 104728 -> 1.5622952828687535, 50304 -> 5.191982722514752, 47377 -> 5.119149689620758, 45533 -> 3.060442798246726, 96959 -> 6.150460996802211, 40569 -> 8.668081412350025, 20890 -> 5.5620010816271686, 108271 -> 3.491931679776196, 60644 -> 5.972407546163748, 56089 -> 52.464295699794214, 65828 -> 4.29442302734666, 33241 -> 1.5437373510243526, 94727 -> 3.4334140728784446, 106579 -> 2.604683875696735, 2335 -> 7.464108608024089, 108153 -> 4.54675290431198, 75058 -> 6.053121634313827, 109233 -> 4.532914855607669, 31490 -> 4.296526077543439, 2523 -> 5.484089341128997, 38342 -> 4.083113933679453, 76345 -> 3.593949806694642, 95872 -> 4.458527328863252, 90582 -> 3.7481004865219, 77192 -> 5.449689375110598, 89834 -> 1.8170728672537764, 38061 -> 2.7165711807490758, 64271 -> 8.380399339898243, 102406 -> 4.315655247452434, 57068 -> 6.15577578837391, 37662 -> 2.642215438524711, 45983 -> 8.587333684095857, 42619 -> 4.4784266703236, 96910 -> 7.4386430439437135, 111404 -> 4.01889434094516, 74100 -> 5.982504067099874, 95297 -> 6.053121634313827, 23932 -> 7.569469123681915, 9671 -> 4.290230149086624, 34502 -> 4.12656125343839, 98646 -> 4.55791987916338, 17445 -> 4.8763445727963814, 79187 -> 3.799265731738394, 77234 -> 16.081962041911925, 33563 -> 1.9675553258680274, 87996 -> 5.234094207864879, 2377 -> 4.903012819878542, 56550 -> 7.058643499915925, 84144 -> 4.186963875031912, 65709 -> 7.127636371402876, 44004 -> 5.017423171056286, 95040 -> 5.137020247832383, 42143 -> 3.123555221556783, 106143 -> 3.3701281310681894, 55179 -> 4.108955164863341, 95029 -> 3.5276645453943516, 74753 -> 2.606624493422008, 83055 -> 108.93388293139108, 16348 -> 2.329781841585284, 55848 -> 4.346158701745849, 27493 -> 5.49002758200208, 59333 -> 5.36829026332567, 31982 -> 5.207567453531451, 62519 -> 19.70406175040236, 78534 -> 5.815449982436707, 52418 -> 8.157255788584035, 44122 -> 5.04819482972304, 19889 -> 6.822254721851694, 68205 -> 3.440929199885515, 91914 -> 4.263396753783559, 104237 -> 1.6600284120525242, 17069 -> 2.348786074230184, 10252 -> 2.6699723225233747, 20510 -> 11.378312514224831, 10366 -> 2.9799767504130537, 95926 -> 25.597591484126642, 74403 -> 3.9406935936376843, 104622 -> 6.698640765884518, 32975 -> 16.93321684916246, 38354 -> 9.54413070843166, 77612 -> 7.324346665648931, 51968 -> 1.9162005201469943, 44130 -> 2.8352218954186816, 750 -> 2.632998783419787, 91338 -> 5.156535973519004, 38994 -> 3.248284148264279, 1698 -> 5.854670695589989, 97773 -> 4.124786630080021, 1219 -> 1.625212659560714, 102789 -> 2.0793842137353136, 16496 -> 3.117061692246234, 3536 -> 4.828629099756714, 21373 -> 2.4911751811118448, 109050 -> 1.5197356684499577, 11323 -> 11.75643264716453, 8259 -> 2.250804615803009, 97963 -> 1.9199082031923533, 95187 -> 9.766693701018134, 60341 -> 4.348373542075402, 95165 -> 1.3737041130612035, 46081 -> 5.631527144275779, 11201 -> 1.645361881567367, 99707 -> 2.9139227303687574, 47374 -> 6.72623900616664, 46210 -> 6.568020583467454, 76979 -> 35.293217499579626, 65587 -> 9.36122859290997, 39564 -> 3.206370498893553, 17401 -> 7.9534670602417625, 47361 -> 2.3434238087838755, 31659 -> 3.839767675047724, 16735 -> 9.730259003952481, 60356 -> 2.9390644665152825, 105871 -> 6.437230638516823, 36466 -> 4.800358665818459, 71856 -> 4.03659391804456, 59966 -> 3.1620725990467005, 40195 -> 4.327072104933704, 112420 -> 6.953956260218275, 106004 -> 2.02472580119745, 3583 -> 4.679097365785751, 28079 -> 3.960053840922226, 96089 -> 3.1709131870568235, 75104 -> 2.314581315061215, 26480 -> 3.8531906953798645, 48359 -> 4.61629646454672, 47741 -> 1.5962251226874615, 40079 -> 4.899159250562552, 16467 -> 1.6866046738358083, 45198 -> 3.288952403065575, 112722 -> 19.550747397601263, 53126 -> 3.3233576729878327, 67701 -> 2.4177844715193264, 1583 -> 4.8614189225797055, 81305 -> 23.898341362805063, 12021 -> 1.7952627032487845, 52440 -> 3.2235015388237365, 14240 -> 2.4859965056333935, 87832 -> 1.3968410975006065, 86659 -> 64.76633173975229, 63082 -> 3.099736908588928, 57431 -> 1.5202599148577705, 96224 -> 4.27157675849549, 50467 -> 3.8031143573996884, 53172 -> 37.20322267580683, 88014 -> 2.3666841838554427, 96970 -> 4.584910150726049, 42669 -> 5.366090680771317, 14919 -> 8.380399339898243, 94056 -> 8.221102225499282, 5912 -> 18.72245718581994, 46432 -> 5.600028477216408, 92393 -> 1.0775660456944298, 105400 -> 3.6674964541072708, 38421 -> 2.779203454017144, 45190 -> 1.4922092164109473, 110942 -> 4.9833773296465695, 39763 -> 2.6470580630004985, 73094 -> 7.025853677092933, 49231 -> 1.9559355844887782, 33838 -> 3.4369727954954383, 13324 -> 5.750310680265746, 47604 -> 5.161523515030043, 70608 -> 13.056030497707509, 86491 -> 2.4445135725563616, 81763 -> 7.75179068047587, 9234 -> 4.229359433999599, 104559 -> 3.903062525420038, 25998 -> 2.24429346963101, 105205 -> 15.13893824736383, 10428 -> 2.0896936952030645, 32474 -> 4.810001320954111, 105573 -> 3.5621359384494444, 89318 -> 19.898981598257134, 13721 -> 13.808985640177333, 74515 -> 2.711380857678383, 71635 -> 1.0027185597222883, 24333 -> 13.262398970177971, 57552 -> 4.657722506201017, 1757 -> 1.005613597149788, 68928 -> 4.6547059126615915, 10408 -> 4.639757951225718, 17810 -> 4.178123417234758, 67766 -> 5.250354728736659, 103398 -> 3.039860957916245, 45763 -> 2.6993738523646593, 73625 -> 5.600028477216408, 104664 -> 3.1770797019724872, 44684 -> 5.1715738508835445, 99342 -> 10.48981024793819, 30254 -> 2.126539872622455, 4784 -> 2.957827347859405, 100882 -> 4.0030712260059165, 24976 -> 7.324346665648931))\n",
      "(5354,Map(36290 -> 6.1423527680417696, 98865 -> 1.8493395130281909, 15844 -> 2.295330612831038, 92707 -> 2.6446338193889924, 11763 -> 16.483342453657187, 106283 -> 41.83936352631232, 32950 -> 3.124859002706266, 76191 -> 3.6810559838929033, 73227 -> 3.2904908649074804, 91397 -> 2.118430670116215, 7839 -> 2.5919693911817587, 23949 -> 2.553662041183266, 87327 -> 2.4050430168158057, 99912 -> 2.1852289353685275, 82672 -> 6.722171263294712, 79120 -> 2.9315091148708334, 14034 -> 5.982504067099874, 6054 -> 3.3976492492915242, 84478 -> 4.19453966884037, 28308 -> 3.5601177742932073, 44939 -> 1.0841555770150595, 63699 -> 4.551757943409149, 78074 -> 2.526044006762669, 35326 -> 4.880111055591858, 16801 -> 1.872375637176511, 2200 -> 5.5325871964208755, 20745 -> 1.7493861933295536, 62028 -> 17.716622485267266, 73099 -> 3.417554709638337, 26111 -> 7.20465363806538, 25629 -> 1.731576720081902, 19181 -> 3.98440816487399, 95321 -> 1.499758353407679, 53889 -> 1.7722300378707123, 99714 -> 2.720481678888982, 17069 -> 1.174393037115092, 27646 -> 4.033352424120389, 74976 -> 3.4079852586221864, 96881 -> 2.091379743962242, 26270 -> 8.061945608779709, 50603 -> 1.38968254020176, 76780 -> 3.279771007275284, 45640 -> 1.6416546036503894, 104192 -> 13.928189164844627, 78346 -> 3.035675600536052, 51461 -> 2.017155742336904, 73162 -> 2.994758145178533, 57431 -> 1.5202599148577705, 61630 -> 5.805880531420557, 50467 -> 3.8031143573996884, 94056 -> 1.0276377781874102, 71075 -> 3.9260520436447366, 27581 -> 3.754201786718077, 49231 -> 1.9559355844887782, 96794 -> 1.1383169806412825, 59458 -> 3.67651568097412, 84118 -> 2.198572731000432, 58693 -> 3.444128461090851, 90515 -> 3.5128648894426617, 35292 -> 5.554566103139651, 75587 -> 4.410107426346122, 84737 -> 6.332706496532989, 53382 -> 2.4604979288647977, 97219 -> 2.951602106899417, 50563 -> 4.468376334470098, 29819 -> 2.328310170973827, 17484 -> 9.766693701018134, 109362 -> 1.9731068976465513, 41472 -> 4.426754659779279, 41768 -> 3.547098061084904))\n",
      "(32676,Map(108710 -> 2.631006353989991, 88840 -> 2.8745598029389545, 26996 -> 2.0607557786421715, 12589 -> 1.9813885184782734, 85923 -> 5.960031211247815, 30108 -> 7.687252159338299, 18383 -> 3.9377480834079277, 29230 -> 6.285453611682443, 33563 -> 1.9675553258680274, 5313 -> 20.466764165555084, 40458 -> 2.694695978641949, 91233 -> 3.799265731738394, 20593 -> 6.675651247659819, 84413 -> 4.473388876293642, 17069 -> 1.174393037115092, 76879 -> 5.623558974626602, 71924 -> 3.8917629701661043, 109502 -> 1.2360908226919798, 24942 -> 1.4019526327935743, 50603 -> 1.38968254020176, 9733 -> 4.198349197257038, 38735 -> 3.4334140728784446, 85596 -> 2.3901855746919147, 77057 -> 2.7362784093001102, 67893 -> 4.137275641650796, 16467 -> 0.8433023369179041, 38133 -> 8.288965760111491, 87832 -> 1.3968410975006065, 34375 -> 2.3016109646185874, 62427 -> 1.3558615255933073, 57431 -> 1.5202599148577705, 31210 -> 1.315960876302167, 100335 -> 2.469602695857717, 2337 -> 3.5825448100806514, 14356 -> 3.4751245614598147, 32973 -> 3.5461035309183955, 8115 -> 3.192315453749908, 19420 -> 7.464108608024089, 106954 -> 7.092545051591606, 36837 -> 2.83327067528742, 18313 -> 3.6365547592223932, 58602 -> 1.5612020878978985))\n",
      "(4926,Map(56798 -> 2.1075223333520765, 110568 -> 1.4101388555647099, 49969 -> 1.4390884023878974, 98865 -> 1.8493395130281909, 11998 -> 2.7704697740483897, 76837 -> 7.464108608024089, 70339 -> 11.592803574932026, 56631 -> 2.6163844772019647, 89453 -> 3.8997474705071644, 63808 -> 3.0392619761672792, 111295 -> 3.4123236602207845, 24861 -> 19.096488958067937, 62318 -> 3.527999077468394, 27259 -> 7.6165380159767055, 5178 -> 6.405058748427896, 15207 -> 9.766693701018134, 58098 -> 4.946412135413098, 69503 -> 2.004948716359222, 44911 -> 16.288208880556933, 3820 -> 2.6917305030520913, 79175 -> 1.0803486268565852, 49229 -> 8.513930732522766, 94269 -> 3.084585103568326, 85608 -> 2.6410084377746754, 28089 -> 5.895492690110244, 56000 -> 3.450431948869443, 79120 -> 5.863018229741667, 97662 -> 6.2701861395516545, 97570 -> 6.906551599144821, 86026 -> 1.153645023958376, 15851 -> 3.039860957916245, 26374 -> 3.702908492330527, 89723 -> 6.053121634313827, 97284 -> 3.3891167743178032, 74265 -> 3.3241535345499362, 77418 -> 4.446125725535278, 33998 -> 4.074646482580355, 5169 -> 4.520154123749576, 411 -> 6.225734376980821, 25042 -> 7.464108608024089, 93778 -> 3.6054863793230583, 89834 -> 1.8170728672537764, 6856 -> 2.544127682195964, 44939 -> 1.0841555770150595, 49766 -> 3.975205645942828, 92176 -> 47.452095681635925, 62147 -> 3.981331239369511, 78074 -> 2.526044006762669, 96910 -> 3.7193215219718567, 6032 -> 5.039305882305794, 5266 -> 1.5276283692488668, 16215 -> 15.117917646917384, 88038 -> 5.5620010816271686, 50340 -> 5.554566103139651, 83732 -> 1.814782319163947, 64852 -> 5.93805230452904, 75685 -> 5.0571634997058, 95735 -> 4.942387985113372, 6175 -> 2.9587587573182086, 91946 -> 8.267382816845961, 78773 -> 5.796401787466013, 50505 -> 7.464108608024089, 53476 -> 4.245232783155888, 30968 -> 3.0202815724447607, 36024 -> 7.201744343556598, 7966 -> 5.476234259869743, 17069 -> 1.174393037115092, 34438 -> 4.110701890198282, 69381 -> 10.45984088157808, 38354 -> 1.908826141686332, 109502 -> 1.2360908226919798, 27949 -> 2.711812357145704, 4995 -> 2.558093363057936, 750 -> 2.632998783419787, 1219 -> 1.625212659560714, 55198 -> 5.647656526205663, 24942 -> 4.205857898380723, 78958 -> 4.173842787069216, 42351 -> 1.222177213953007, 91927 -> 1.815662678407354, 58031 -> 5.228849689971191, 8259 -> 2.250804615803009, 88007 -> 2.7057882425423228, 98253 -> 1.6076050463502243, 58320 -> 2.442863134815818, 109946 -> 6.0809205973187765, 45640 -> 4.924963810951168, 3594 -> 3.2646535613993715, 85273 -> 3.964575325641072, 34560 -> 5.0304952526236395, 31307 -> 3.797986141032769, 52294 -> 2.1335660941813157, 86496 -> 3.9016430787658116, 74733 -> 4.012535019036867, 80986 -> 3.8973967878843605, 6725 -> 4.496261537959634, 55578 -> 3.2028381744860073, 16467 -> 0.8433023369179041, 73162 -> 5.989516290357066, 59005 -> 3.651905937878154, 105535 -> 8.668081412350025, 82311 -> 3.5371969901021925, 87832 -> 2.793682195001213, 62427 -> 1.3558615255933073, 60050 -> 2.1849740608928263, 1156 -> 3.366436255709314, 110203 -> 3.665254300701581, 103619 -> 18.53785252718169, 94551 -> 5.1715738508835445, 3823 -> 5.476234259869743, 44424 -> 1.3922168118034928, 92393 -> 1.0775660456944298, 41952 -> 7.626627537521864, 36061 -> 5.476234259869743, 47422 -> 3.713428753004706, 45190 -> 1.4922092164109473, 57034 -> 2.7367207893117484, 89243 -> 1.363789656004025, 84343 -> 3.3524154074673755, 15223 -> 36.62716608597753, 96794 -> 1.1383169806412825, 104996 -> 5.3240424445278185, 112252 -> 4.52759569413007, 84118 -> 2.198572731000432, 25998 -> 2.24429346963101, 59766 -> 3.6107745989446225, 23778 -> 6.1291075412917495, 104400 -> 2.2941929562805767, 71635 -> 3.008155679166865, 110636 -> 8.380399339898243, 82631 -> 3.0114389815583795, 17201 -> 5.631527144275779, 40798 -> 4.393732791474332, 23538 -> 5.647656526205663, 31053 -> 1.2114343087954411, 111473 -> 2.395833534481419, 110925 -> 4.146292835300985, 64289 -> 3.7210277154513953, 30254 -> 6.379619617867364, 11298 -> 3.960053840922226, 20853 -> 3.6913476699294505, 109362 -> 1.9731068976465513, 14450 -> 1.651471728455806, 40011 -> 2.789878886104503))\n"
     ]
    },
    {
     "data": {
      "text/plain": [
       "\u001b[36mtfIdfs\u001b[39m: \u001b[32morg\u001b[39m.\u001b[32mapache\u001b[39m.\u001b[32mspark\u001b[39m.\u001b[32mrdd\u001b[39m.\u001b[32mRDD\u001b[39m[(\u001b[32mLong\u001b[39m, \u001b[32mMap\u001b[39m[\u001b[32mLong\u001b[39m, \u001b[32mDouble\u001b[39m])] = MapPartitionsRDD[42] at mapValues at cmd20.sc:6"
      ]
     },
     "execution_count": 20,
     "metadata": {},
     "output_type": "execute_result"
    }
   ],
   "source": [
    "val tfIdfs = tokenCounts\n",
    "    .map { case (token, docId, tf) => (token, (docId, tf)) }\n",
    "    .join(vocabIdfs.map { case (word, wordId, idf) => (word, (wordId, idf)) })\n",
    "    .map { case (token, ((docId, tf), (wordId, idf))) => (docId, (wordId, tf * idf)) }\n",
    "    .groupByKey\n",
    "    .mapValues(_.toMap)\n",
    "    .persist\n",
    "\n",
    "tfIdfs.take(10).foreach(println)"
   ]
  },
  {
   "cell_type": "code",
   "execution_count": 21,
   "metadata": {},
   "outputs": [
    {
     "data": {
      "text/plain": [
       "\u001b[32mimport \u001b[39m\u001b[36morg.apache.spark.rdd.RDD\u001b[39m"
      ]
     },
     "execution_count": 21,
     "metadata": {},
     "output_type": "execute_result"
    }
   ],
   "source": [
    "import org.apache.spark.rdd.RDD"
   ]
  },
  {
   "cell_type": "code",
   "execution_count": 22,
   "metadata": {},
   "outputs": [
    {
     "data": {
      "text/plain": [
       "defined \u001b[32mfunction\u001b[39m \u001b[36mcosineBetweenDocs\u001b[39m"
      ]
     },
     "execution_count": 22,
     "metadata": {},
     "output_type": "execute_result"
    }
   ],
   "source": [
    "def cosineBetweenDocs(doc1: Int, doc2: Int, tfIdfs: RDD[(Long, Map[Long, Double])]): Double = {\n",
    "    val doc1TfIdfs = tfIdfs.filter(_._1 == doc1).collect.head._2\n",
    "    val doc2TfIdfs = tfIdfs.filter(_._1 == doc2).collect.head._2\n",
    "\n",
    "    calc_cosign(doc1TfIdfs, doc2TfIdfs)\n",
    "}"
   ]
  },
  {
   "cell_type": "code",
   "execution_count": 24,
   "metadata": {},
   "outputs": [
    {
     "data": {
      "text/html": [
       "<div><code>collect</code> at <code>cmd22.sc:2</code></div>"
      ]
     },
     "metadata": {},
     "output_type": "display_data"
    },
    {
     "data": {
      "text/html": [
       "<div><code>collect</code> at <code>cmd22.sc:3</code></div>"
      ]
     },
     "metadata": {},
     "output_type": "display_data"
    },
    {
     "data": {
      "text/plain": [
       "\u001b[36mres24\u001b[39m: \u001b[32mDouble\u001b[39m = \u001b[32m0.02227586306780432\u001b[39m"
      ]
     },
     "execution_count": 24,
     "metadata": {},
     "output_type": "execute_result"
    }
   ],
   "source": [
    "cosineBetweenDocs(0, 1, tfIdfs)"
   ]
  },
  {
   "cell_type": "code",
   "execution_count": 23,
   "metadata": {},
   "outputs": [
    {
     "data": {
      "text/html": [
       "<div><code>collect</code> at <code>cmd22.sc:2</code></div>"
      ]
     },
     "metadata": {},
     "output_type": "display_data"
    },
    {
     "data": {
      "text/html": [
       "<div><code>collect</code> at <code>cmd22.sc:3</code></div>"
      ]
     },
     "metadata": {},
     "output_type": "display_data"
    },
    {
     "data": {
      "text/plain": [
       "\u001b[36mres23\u001b[39m: \u001b[32mDouble\u001b[39m = \u001b[32m1.0\u001b[39m"
      ]
     },
     "execution_count": 23,
     "metadata": {},
     "output_type": "execute_result"
    }
   ],
   "source": [
    "cosineBetweenDocs(4, 4, tfIdfs)"
   ]
  },
  {
   "cell_type": "code",
   "execution_count": null,
   "metadata": {},
   "outputs": [],
   "source": []
  }
 ],
 "metadata": {
  "kernelspec": {
   "display_name": "Scala 2.12",
   "language": "scala",
   "name": "scala212"
  },
  "language_info": {
   "codemirror_mode": "text/x-scala",
   "file_extension": ".sc",
   "mimetype": "text/x-scala",
   "name": "scala",
   "nbconvert_exporter": "script",
   "version": "2.12.19"
  }
 },
 "nbformat": 4,
 "nbformat_minor": 2
}
